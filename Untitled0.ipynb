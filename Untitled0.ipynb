{
  "nbformat": 4,
  "nbformat_minor": 0,
  "metadata": {
    "colab": {
      "provenance": [],
      "authorship_tag": "ABX9TyPbWagLez1vMw3O9InOFvV6",
      "include_colab_link": true
    },
    "kernelspec": {
      "name": "python3",
      "display_name": "Python 3"
    },
    "language_info": {
      "name": "python"
    }
  },
  "cells": [
    {
      "cell_type": "markdown",
      "metadata": {
        "id": "view-in-github",
        "colab_type": "text"
      },
      "source": [
        "<a href=\"https://colab.research.google.com/github/Mental2015/5-semestr/blob/main/Untitled0.ipynb\" target=\"_parent\"><img src=\"https://colab.research.google.com/assets/colab-badge.svg\" alt=\"Open In Colab\"/></a>"
      ]
    },
    {
      "cell_type": "code",
      "execution_count": null,
      "metadata": {
        "colab": {
          "base_uri": "https://localhost:8080/"
        },
        "id": "aPf6wLvz_VvU",
        "outputId": "3ff07f9d-b227-4171-c6e0-fda1c643681b"
      },
      "outputs": [
        {
          "output_type": "stream",
          "name": "stdout",
          "text": [
            "2:00:00\n"
          ]
        }
      ],
      "source": [
        "# Переменные\n",
        "\n",
        "\n",
        "from datetime import timedelta  # импорт библиотека\n",
        "\n",
        "speaker = \"Алексей\"  # тип данных - строка\n",
        "duration  = 110.0  # тип данных - float\n",
        "duration_timedelta = timedelta(\n",
        "    minutes=110\n",
        ")\n",
        "delta = timedelta(\n",
        "    minutes=10\n",
        ")\n",
        "print(duration_timedelta + delta)"
      ]
    },
    {
      "cell_type": "code",
      "source": [
        "# Списки\n",
        "\n",
        "\n",
        "visitors = [\"Дмитрий\", \"Ярослав\", \"Кирилл\"] # объявляем список\n",
        "#.             0.          1.         2.\n",
        "\n",
        "# print(visitors[0]) # обращаемся по индексу к первому элементу\n",
        "# print(visitors[-1]) # обращаемся по индексу к последнему элементу элементу\n",
        "\n",
        "\n",
        "# цикл\n",
        "for visitor in visitors:\n",
        "    print(visitor)\n",
        "\n",
        "\n",
        "length_visitors = len(visitors) # длина списка\n",
        "print(length_visitors)\n"
      ],
      "metadata": {
        "id": "RhSfF4ZLCM46"
      },
      "execution_count": null,
      "outputs": []
    },
    {
      "cell_type": "code",
      "source": [
        "# Словари\n",
        "\n",
        "\n",
        "visitors_dict = {}\n",
        "visitors_dict[\"Дмитрий\"] = \"Привет всем!\" # присваиваем значение по ключу\n",
        "visitors_dict[\"Ярослав\"] = \"Привет, Дмитрий!\"\n",
        "visitors_dict[\"Кирилл\"] = \"Как у вас дела?!\"\n",
        "# print(visitors_dict)\n",
        "\n",
        "print(visitors_dict[\"Дмитрий\"]) # получаем значение из словаря по ключу\n",
        "length_visitors_dict = len(visitors_dict) # длина словаря\n",
        "\n",
        "# цикл for  по словарю\n",
        "\n",
        "for key, value in visitors_dict.items():\n",
        "    print(f\"Ключ словаря: {key}, значение словаря {value}\")"
      ],
      "metadata": {
        "id": "tgORe_5aGkZq"
      },
      "execution_count": null,
      "outputs": []
    },
    {
      "cell_type": "code",
      "source": [
        "from datetime import datetime\n",
        "\n",
        "all_messages = [] # создаем пустой список сообщений\n",
        "\n",
        "\n",
        "def add_message(author, text): # объявляем функцию добавления сообщений с параметрами\n",
        "    message = {\n",
        "        \"author\": author,\n",
        "        \"text\": text,\n",
        "        \"time\": datetime.now().strftime(\"%H:%M:%S\")\n",
        "    }\n",
        "    all_messages.append(message) # добавляем параметризированное сообщение в список всех сообщений\n",
        "\n",
        "\n",
        "add_message(\"Дмитрий\", \"Привет всем!\") # вызыввем функцию для добавления сообщения\n",
        "add_message(author=\"Ярослав\", text=\"Привет, Дмитрий!\")\n",
        "add_message(text=\"Как у вас дела?!\", author=\"Кирилл\")\n",
        "\n",
        "\n",
        "def print_message(msg): # форматирование одного сообщения\n",
        "    print(f\"[{msg['author']}]: {msg['text']} {msg['time']}\")\n",
        "\n",
        "\n",
        "def print_all_messages(): # форматированный вывод всех сообщений из списка\n",
        "    for message in all_messages:\n",
        "        print_message(message)\n",
        "\n",
        "\n",
        "print_all_messages()"
      ],
      "metadata": {
        "id": "t8vDdrnQQBXk"
      },
      "execution_count": null,
      "outputs": []
    }
  ]
}